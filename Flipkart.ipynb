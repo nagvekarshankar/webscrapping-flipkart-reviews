{
 "cells": [
  {
   "cell_type": "markdown",
   "metadata": {},
   "source": [
    "#  Import Library"
   ]
  },
  {
   "cell_type": "code",
   "execution_count": 1,
   "metadata": {},
   "outputs": [],
   "source": [
    "import requests\n",
    "from bs4 import BeautifulSoup\n",
    "import re\n",
    "import pandas as pd\n",
    "\n"
   ]
  },
  {
   "cell_type": "markdown",
   "metadata": {},
   "source": [
    "# Try to Fetch Website Content using lxml as it's much faster as compared to html.parser"
   ]
  },
  {
   "cell_type": "code",
   "execution_count": 2,
   "metadata": {},
   "outputs": [],
   "source": [
    "URL = 'https://www.flipkart.com/apple-iphone-11-white-64-gb/product-reviews/itmfc6a7091eb20b?pid=MOBFWQ6BVWVEH3XE&lid=LSTMOBFWQ6BVWVEH3XESAHPTP&sortOrder=MOST_HELPFUL&certifiedBuyer=false&aid=overall&page=1'\n",
    "page = requests.get(URL)\n",
    "\n",
    "#soup = BeautifulSoup(page.content, 'html.parser')\n",
    "soup = BeautifulSoup(page.content, 'lxml')\n",
    "#print(soup.title) "
   ]
  },
  {
   "cell_type": "markdown",
   "metadata": {},
   "source": [
    "\n",
    "# Fetch number of pages you are able to view reviews of the given products"
   ]
  },
  {
   "cell_type": "code",
   "execution_count": 3,
   "metadata": {},
   "outputs": [
    {
     "data": {
      "text/plain": [
       "'216'"
      ]
     },
     "execution_count": 3,
     "metadata": {},
     "output_type": "execute_result"
    }
   ],
   "source": [
    "page_details = soup.find('div', class_='_2MImiq _1Qnn1K').find('span').text\n",
    "no_of_pages_list  = re.findall(r'\\d+',page_details)\n",
    "\n",
    "no_of_pages = no_of_pages_list[1].replace(\"'\",\"\" )\n",
    "no_of_pages"
   ]
  },
  {
   "cell_type": "markdown",
   "metadata": {},
   "source": [
    "# Function to read the URL and accordingly fetch all Div with the given class "
   ]
  },
  {
   "cell_type": "code",
   "execution_count": 4,
   "metadata": {},
   "outputs": [],
   "source": [
    "def fetch_flipkart_message(url):\n",
    "    page = requests.get(url)\n",
    "    soup = BeautifulSoup(page.content, 'lxml')\n",
    "    job_elems = soup.find_all('div', class_='col _2wzgFH K0kLPL')\n",
    "    message_headers = []\n",
    "    for job_elem in job_elems:\n",
    "        message_headers.append({\"Headers\":job_elem.find('p',class_=\"_2-N8zT\").get_text(),\n",
    "        \"Details\":job_elem.find('div',class_=\"t-ZTKy\").find('div').get_text()})\n",
    "       \n",
    "    return message_headers"
   ]
  },
  {
   "cell_type": "markdown",
   "metadata": {},
   "source": [
    "# Dummy code to fetch records for a URL"
   ]
  },
  {
   "cell_type": "code",
   "execution_count": 5,
   "metadata": {},
   "outputs": [
    {
     "data": {
      "text/plain": [
       "'Amazing phone with great cameras and better battery which gives you the best performance. I just love the camera .READ MORE'"
      ]
     },
     "execution_count": 5,
     "metadata": {},
     "output_type": "execute_result"
    }
   ],
   "source": [
    "headers = []\n",
    "info    = []\n",
    "head = fetch_flipkart_message(URL)\n",
    "data_info = pd.DataFrame(head)\n",
    "data_info['Details'][0]"
   ]
  },
  {
   "cell_type": "markdown",
   "metadata": {},
   "source": [
    "# Fetch all records of the URL and appending it to Dataframe"
   ]
  },
  {
   "cell_type": "code",
   "execution_count": 6,
   "metadata": {},
   "outputs": [],
   "source": [
    "flipkart_reviews = pd.DataFrame()\n",
    "for pages in range(1,int(no_of_pages)):\n",
    "    URLs = 'https://www.flipkart.com/apple-iphone-11-white-64-gb/product-reviews/itmfc6a7091eb20b?pid=MOBFWQ6BVWVEH3XE&lid=LSTMOBFWQ6BVWVEH3XESAHPTP&sortOrder=MOST_HELPFUL&certifiedBuyer=false&aid=overall&page='+str(pages)\n",
    "    flipkart_reviews = flipkart_reviews.append(fetch_flipkart_message(URLs),ignore_index=True)\n",
    "    "
   ]
  },
  {
   "cell_type": "code",
   "execution_count": 7,
   "metadata": {},
   "outputs": [
    {
     "data": {
      "text/html": [
       "<div>\n",
       "<style scoped>\n",
       "    .dataframe tbody tr th:only-of-type {\n",
       "        vertical-align: middle;\n",
       "    }\n",
       "\n",
       "    .dataframe tbody tr th {\n",
       "        vertical-align: top;\n",
       "    }\n",
       "\n",
       "    .dataframe thead th {\n",
       "        text-align: right;\n",
       "    }\n",
       "</style>\n",
       "<table border=\"1\" class=\"dataframe\">\n",
       "  <thead>\n",
       "    <tr style=\"text-align: right;\">\n",
       "      <th></th>\n",
       "      <th>Headers</th>\n",
       "      <th>Details</th>\n",
       "    </tr>\n",
       "  </thead>\n",
       "  <tbody>\n",
       "    <tr>\n",
       "      <th>0</th>\n",
       "      <td>Perfect product!</td>\n",
       "      <td>Amazing phone with great cameras and better ba...</td>\n",
       "    </tr>\n",
       "    <tr>\n",
       "      <th>1</th>\n",
       "      <td>Great product</td>\n",
       "      <td>Amazing Powerful and Durable Gadget.I’m am ver...</td>\n",
       "    </tr>\n",
       "    <tr>\n",
       "      <th>2</th>\n",
       "      <td>Highly recommended</td>\n",
       "      <td>iphone 11 is a very good phone to buy only if ...</td>\n",
       "    </tr>\n",
       "    <tr>\n",
       "      <th>3</th>\n",
       "      <td>Perfect product!</td>\n",
       "      <td>It’s a must buy who is looking for an upgrade ...</td>\n",
       "    </tr>\n",
       "    <tr>\n",
       "      <th>4</th>\n",
       "      <td>Perfect product!</td>\n",
       "      <td>Value for money❤️❤️Its awesome mobile phone in...</td>\n",
       "    </tr>\n",
       "  </tbody>\n",
       "</table>\n",
       "</div>"
      ],
      "text/plain": [
       "              Headers                                            Details\n",
       "0    Perfect product!  Amazing phone with great cameras and better ba...\n",
       "1       Great product  Amazing Powerful and Durable Gadget.I’m am ver...\n",
       "2  Highly recommended  iphone 11 is a very good phone to buy only if ...\n",
       "3    Perfect product!  It’s a must buy who is looking for an upgrade ...\n",
       "4    Perfect product!  Value for money❤️❤️Its awesome mobile phone in..."
      ]
     },
     "execution_count": 7,
     "metadata": {},
     "output_type": "execute_result"
    }
   ],
   "source": [
    "flipkart_reviews.head()"
   ]
  },
  {
   "cell_type": "raw",
   "metadata": {},
   "source": [
    "  -------------------------------------------- Thank You -------------------------------------------------"
   ]
  }
 ],
 "metadata": {
  "kernelspec": {
   "display_name": "Python 3",
   "language": "python",
   "name": "python3"
  },
  "language_info": {
   "codemirror_mode": {
    "name": "ipython",
    "version": 3
   },
   "file_extension": ".py",
   "mimetype": "text/x-python",
   "name": "python",
   "nbconvert_exporter": "python",
   "pygments_lexer": "ipython3",
   "version": "3.8.3"
  }
 },
 "nbformat": 4,
 "nbformat_minor": 4
}
